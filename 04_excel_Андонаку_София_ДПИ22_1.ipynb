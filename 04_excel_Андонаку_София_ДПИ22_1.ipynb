{
 "cells": [
  {
   "cell_type": "markdown",
   "metadata": {},
   "source": [
    "# Работа с Excel"
   ]
  },
  {
   "cell_type": "markdown",
   "metadata": {},
   "source": [
    "Материалы:\n",
    "* Макрушин С.В. Лекция 7: Работа с Excel\n",
    "* https://docs.xlwings.org/en/stable/quickstart.html\n",
    "* https://nbviewer.jupyter.org/github/pybokeh/jupyter_notebooks/blob/master/xlwings/Excel_Formatting.ipynb#search_text\n"
   ]
  },
  {
   "cell_type": "markdown",
   "metadata": {},
   "source": [
    "## Лабораторная работа 4"
   ]
  },
  {
   "cell_type": "markdown",
   "metadata": {},
   "source": [
    "1. Загрузите данные из файлов `reviews_sample.csv` (__ЛР2__) и `recipes_sample.csv` (__ЛР5__) в виде `pd.DataFrame`. Обратите внимание на корректное считывание столбца(ов) с индексами. Оставьте в таблице с рецептами следующие столбцы: `id`, `name`, `minutes`, `submitted`, `description`, `n_ingredients`"
   ]
  },
  {
   "cell_type": "code",
   "execution_count": 4,
   "metadata": {},
   "outputs": [
    {
     "name": "stdout",
     "output_type": "stream",
     "text": [
      "        Unnamed: 0     user_id  recipe_id        date  rating  \\\n",
      "0           370476       21752      57993  2003-05-01       5   \n",
      "1           624300      431813     142201  2007-09-16       5   \n",
      "2           187037      400708     252013  2008-01-10       4   \n",
      "3           706134  2001852463     404716  2017-12-11       5   \n",
      "4           312179       95810     129396  2008-03-14       5   \n",
      "...            ...         ...        ...         ...     ...   \n",
      "126691     1013457     1270706     335534  2009-05-17       4   \n",
      "126692      158736     2282344       8701  2012-06-03       0   \n",
      "126693     1059834      689540     222001  2008-04-08       5   \n",
      "126694      453285  2000242659     354979  2015-06-02       5   \n",
      "126695      691207      463435     415599  2010-09-30       5   \n",
      "\n",
      "                                                   review  \n",
      "0       Last week whole sides of frozen salmon fillet ...  \n",
      "1       So simple and so tasty!  I used a yellow capsi...  \n",
      "2       Very nice breakfast HH, easy to make and yummy...  \n",
      "3       These are a favorite for the holidays and so e...  \n",
      "4       Excellent soup!  The tomato flavor is just gre...  \n",
      "...                                                   ...  \n",
      "126691  This recipe was great! I made it last night. I...  \n",
      "126692  This recipe is outstanding. I followed the rec...  \n",
      "126693  Well, we were not a crowd but it was a fabulou...  \n",
      "126694  I have been a steak eater and dedicated BBQ gr...  \n",
      "126695  Wonderful and simple to prepare seasoning blen...  \n",
      "\n",
      "[126696 rows x 6 columns]\n",
      "                                               name      id  minutes  \\\n",
      "0             george s at the cove  black bean soup   44123       90   \n",
      "1                healthy for them  yogurt popsicles   67664       10   \n",
      "2                      i can t believe it s spinach   38798       30   \n",
      "3                              italian  gut busters   35173       45   \n",
      "4          love is in the air  beef fondue   sauces   84797       25   \n",
      "...                                             ...     ...      ...   \n",
      "29995  zurie s holey rustic olive and cheddar bread  267661       80   \n",
      "29996          zwetschgenkuchen  bavarian plum cake  386977      240   \n",
      "29997   zwiebelkuchen   southwest german onion cake  103312       75   \n",
      "29998                                   zydeco soup  486161       60   \n",
      "29999        cookies by design   cookies on a stick  298512       29   \n",
      "\n",
      "       contributor_id   submitted  n_steps  \\\n",
      "0               35193  2002-10-25      NaN   \n",
      "1               91970  2003-07-26      NaN   \n",
      "2                1533  2002-08-29      NaN   \n",
      "3               22724  2002-07-27      NaN   \n",
      "4                4470  2004-02-23      4.0   \n",
      "...               ...         ...      ...   \n",
      "29995          200862  2007-11-25     16.0   \n",
      "29996          177443  2009-08-24      NaN   \n",
      "29997          161745  2004-11-03      NaN   \n",
      "29998          227978  2012-08-29      NaN   \n",
      "29999          506822  2008-04-15      9.0   \n",
      "\n",
      "                                             description  n_ingredients  \n",
      "0      an original recipe created by chef scott meska...           18.0  \n",
      "1      my children and their friends ask for my homem...            NaN  \n",
      "2                these were so go, it surprised even me.            8.0  \n",
      "3      my sister-in-law made these for us at a family...            NaN  \n",
      "4      i think a fondue is a very romantic casual din...            NaN  \n",
      "...                                                  ...            ...  \n",
      "29995  this is based on a french recipe but i changed...           10.0  \n",
      "29996  this is a traditional fresh plum cake, thought...           11.0  \n",
      "29997  this is a traditional late summer early fall s...            NaN  \n",
      "29998  this is a delicious soup that i originally fou...            NaN  \n",
      "29999  i've heard of the 'cookies by design' company,...           10.0  \n",
      "\n",
      "[30000 rows x 8 columns]\n"
     ]
    }
   ],
   "source": [
    "import pandas as pd\n",
    "df = pd.read_csv(\"data_reviews_sample.csv\")\n",
    "print(df)\n",
    "\n",
    "import pandas as pd\n",
    "rf = pd.read_csv('data_recipes_sample.csv')\n",
    "print(rf)"
   ]
  },
  {
   "cell_type": "markdown",
   "metadata": {},
   "source": [
    "2. Случайным образом выберите 5% строк из каждой таблицы и сохраните две таблицы на разные листы в один файл `recipes.xlsx`. Дайте листам названия \"Рецепты\" и \"Отзывы\", соответствующие содержанию таблиц. "
   ]
  },
  {
   "cell_type": "code",
   "execution_count": 27,
   "metadata": {},
   "outputs": [],
   "source": [
    "import pandas\n",
    "import random\n",
    "\n",
    "n = 30000 #кол-во строк в файле\n",
    "s = 1500 #желаемое кол-во строк: 30000*0.05\n",
    "filename = \"data_recipes_sample.csv\"\n",
    "skip = sorted(random.sample(range(n),n-s))\n",
    "dff = pandas.read_csv(filename, skiprows=skip)\n",
    "\n",
    "n1 = 126696\n",
    "s1 = 6334 #126696*0.05\n",
    "filename1 = \"data_reviews_sample.csv\"\n",
    "skip1 = sorted(random.sample(range(n1),n1-s1))\n",
    "dff1 = pandas.read_csv(filename1, skiprows=skip1)"
   ]
  },
  {
   "cell_type": "code",
   "execution_count": 28,
   "metadata": {},
   "outputs": [
    {
     "name": "stdout",
     "output_type": "stream",
     "text": [
      "                blepandekager   danish   apple pancakes  503475   50  128473  \\\n",
      "0                               pizza pan  potato skins   60938   60   35635   \n",
      "1                       secret ingredient  bbq meatloaf  342620   75   50969   \n",
      "2                     windy s  sweet and sour meatballs  276594   50  341338   \n",
      "3                mcgriddle  pancakes breakfast sandwich  134085   15   31364   \n",
      "4                                rainbow chicken strips  192542   50  360369   \n",
      "...                                                 ...     ...  ...     ...   \n",
      "1495                          zucchini friendship bread  322225   75  736108   \n",
      "1496                                zucchini rice pilaf  282349   25  705251   \n",
      "1497  zucchini  corn  black bean  and jack cheese qu...   36349   30    3288   \n",
      "1498               zwetschgenkuchen  bavarian plum cake  386977  240  177443   \n",
      "1499             cookies by design   cookies on a stick  298512   29  506822   \n",
      "\n",
      "      2013-07-08  10.0  \\\n",
      "0     2003-04-24   NaN   \n",
      "1     2008-12-09   9.0   \n",
      "2     2008-01-05   6.0   \n",
      "3     2005-08-20   4.0   \n",
      "4     2006-10-28   NaN   \n",
      "...          ...   ...   \n",
      "1495  2008-08-29  12.0   \n",
      "1496  2008-01-29   6.0   \n",
      "1497  2002-08-05   NaN   \n",
      "1498  2009-08-24   NaN   \n",
      "1499  2008-04-15   9.0   \n",
      "\n",
      "     this recipe has been posted here for play in zwt9 - scandinavia.  this recipe was found at website: mindspring.com - christian's danish recipes.  \\\n",
      "0     there's a pub we go to that makes their own fr...                                                                                                 \n",
      "1     i know what you might be thinking,'ho hum, ano...                                                                                                 \n",
      "2     whenever we had a potluck lunch at the office ...                                                                                                 \n",
      "3     these are so great as pancakes, but even bette...                                                                                                 \n",
      "4     okay, i probably didn't make this up, but i fe...                                                                                                 \n",
      "...                                                 ...                                                                                                 \n",
      "1495  if you're sick of making the same bread every ...                                                                                                 \n",
      "1496  adapted from quick cooking dec 2001 recipe.  a...                                                                                                 \n",
      "1497  one of those email recipes i haven't tried yet...                                                                                                 \n",
      "1498  this is a traditional fresh plum cake, thought...                                                                                                 \n",
      "1499  i've heard of the 'cookies by design' company,...                                                                                                 \n",
      "\n",
      "      Unnamed: 7  \n",
      "0            7.0  \n",
      "1           10.0  \n",
      "2           14.0  \n",
      "3            NaN  \n",
      "4            5.0  \n",
      "...          ...  \n",
      "1495        14.0  \n",
      "1496         NaN  \n",
      "1497        11.0  \n",
      "1498        11.0  \n",
      "1499        10.0  \n",
      "\n",
      "[1500 rows x 8 columns]        264646      151754  285773  2008-09-04  0  \\\n",
      "0      488041      439759  154996  2007-11-18  5   \n",
      "1     1065960      939002   13707  2011-10-12  3   \n",
      "2     1050041       62491   53878  2004-05-11  4   \n",
      "3      413498  2001046581  217440  2016-06-27  5   \n",
      "4     1122938       88099  235909  2008-05-02  5   \n",
      "...       ...         ...     ...         ... ..   \n",
      "6329   609081      621626  314281  2008-08-07  5   \n",
      "6330   775013     1207345  368208  2009-07-13  2   \n",
      "6331   712825      518572   51209  2009-02-21  5   \n",
      "6332   690102      204452   70522  2005-03-21  5   \n",
      "6333   691207      463435  415599  2010-09-30  5   \n",
      "\n",
      "     This was a very moist cornbread, even two days later. I did use less sugar and added honey, also had farm fresh butter...and fresh corn, about 2 ears. Served with ribs on the grill, thanks for the recipe.  \n",
      "0     I've also been making this recipe for the past...                                                                                                                                                            \n",
      "1     I give this recipe a 3.5 stars.  It was okay a...                                                                                                                                                            \n",
      "2     I made these with vegetarian pepperoni with gr...                                                                                                                                                            \n",
      "3                          The flag Cake it really good                                                                                                                                                            \n",
      "4     Excellent texture, crust was great and nice an...                                                                                                                                                            \n",
      "...                                                 ...                                                                                                                                                            \n",
      "6329  Better than store bought garlic bread. I used ...                                                                                                                                                            \n",
      "6330  I found this to be a good dish,but not great.I...                                                                                                                                                            \n",
      "6331  Count my family in as fans of this recipe.  I ...                                                                                                                                                            \n",
      "6332  Delicious! My entire family enjoyed the corned...                                                                                                                                                            \n",
      "6333  Wonderful and simple to prepare seasoning blen...                                                                                                                                                            \n",
      "\n",
      "[6334 rows x 6 columns]\n"
     ]
    }
   ],
   "source": [
    "with pd.ExcelWriter('recipes.xlsx') as writer:  \n",
    "    dff.to_excel(writer, sheet_name='Рецепты')\n",
    "    dff1.to_excel(writer, sheet_name='Отзывы')\n",
    "print(dff,dff1)"
   ]
  },
  {
   "cell_type": "markdown",
   "metadata": {},
   "source": [
    "3. Используя `xlwings`, добавьте на лист `Рецепты` столбец `seconds_assign`, показывающий время выполнения рецепта в секундах. Выполните задание при помощи присваивания массива значений диапазону ячеек."
   ]
  },
  {
   "cell_type": "code",
   "execution_count": 10,
   "metadata": {},
   "outputs": [
    {
     "ename": "AttributeError",
     "evalue": "'list' object has no attribute 'datetime'",
     "output_type": "error",
     "traceback": [
      "\u001b[1;31m---------------------------------------------------------------------------\u001b[0m",
      "\u001b[1;31mAttributeError\u001b[0m                            Traceback (most recent call last)",
      "\u001b[1;32m~\\AppData\\Local\\Temp\\ipykernel_27256\\2317759313.py\u001b[0m in \u001b[0;36m<module>\u001b[1;34m\u001b[0m\n\u001b[0;32m     18\u001b[0m \u001b[0mvalues\u001b[0m \u001b[1;33m=\u001b[0m \u001b[1;33m[\u001b[0m\u001b[1;34m'D9:D100'\u001b[0m\u001b[1;33m]\u001b[0m\u001b[1;33m\u001b[0m\u001b[1;33m\u001b[0m\u001b[0m\n\u001b[0;32m     19\u001b[0m \u001b[1;32mimport\u001b[0m \u001b[0mdatetime\u001b[0m\u001b[1;33m\u001b[0m\u001b[1;33m\u001b[0m\u001b[0m\n\u001b[1;32m---> 20\u001b[1;33m \u001b[0mstr\u001b[0m\u001b[1;33m(\u001b[0m\u001b[0mvalues\u001b[0m\u001b[1;33m.\u001b[0m\u001b[0mdatetime\u001b[0m\u001b[1;33m(\u001b[0m\u001b[0mseconds\u001b[0m\u001b[1;33m=\u001b[0m\u001b[1;36m666\u001b[0m\u001b[1;33m)\u001b[0m\u001b[1;33m)\u001b[0m\u001b[1;33m\u001b[0m\u001b[1;33m\u001b[0m\u001b[0m\n\u001b[0m\u001b[0;32m     21\u001b[0m \u001b[1;33m\u001b[0m\u001b[0m\n\u001b[0;32m     22\u001b[0m \u001b[1;31m# присвоить массив значений диапазону ячеек столбца seconds_assign\u001b[0m\u001b[1;33m\u001b[0m\u001b[1;33m\u001b[0m\u001b[0m\n",
      "\u001b[1;31mAttributeError\u001b[0m: 'list' object has no attribute 'datetime'"
     ]
    }
   ],
   "source": [
    "import xlwings as xw\n",
    "from datetime import datetime, timedelta\n",
    "\n",
    "# открыть книгу Excel\n",
    "wb = xw.Book('recipes.xlsx')\n",
    "\n",
    "# выбрать лист Рецепты\n",
    "sheet = wb.sheets['Рецепты']\n",
    "\n",
    "# добавить столбец seconds_assign\n",
    "sheet.range('D9').value = 'seconds_assign'\n",
    "\n",
    "# выбрать столбцы с временем начала и окончания рецепта\n",
    "start_time_range = sheet.range('B1:B100')\n",
    "end_time_range = sheet.range('C1:C100')\n",
    "\n",
    "# вычислить время выполнения рецепта в секундах\n",
    "values = ['D9:D100']\n",
    "import datetime\n",
    "str(values.datetime(seconds=666))\n",
    "\n",
    "# присвоить массив значений диапазону ячеек столбца seconds_assign\n",
    "sheet.range('D9:D100').value = values\n"
   ]
  },
  {
   "cell_type": "markdown",
   "metadata": {},
   "source": [
    "4. Используя `xlwings`, добавьте на лист `Рецепты` столбец `seconds_formula`, показывающий время выполнения рецепта в секундах. Выполните задание при помощи формул Excel."
   ]
  },
  {
   "cell_type": "code",
   "execution_count": null,
   "metadata": {},
   "outputs": [],
   "source": [
    "last_column = sheet.range(1, sheet.cells.shape[1]).end('left').column\n",
    "new_column = last_column + 1\n",
    "sheet.range(1, new_column).value = 'seconds_formula'\n",
    "sheet.range(2, new_column).formula = '=TIMEVALUE(\"00:\"&B2)*86400'\n",
    "last_row = sheet.range(sheet.cells.shape[0], new_column).end('up').row\n",
    "sheet.range(2, new_column).expand('down').formula = '=TIMEVALUE(\"00:\"&B2)*86400'"
   ]
  },
  {
   "cell_type": "markdown",
   "metadata": {},
   "source": [
    "5. Сделайте названия всех добавленных столбцов полужирными и выровняйте по центру ячейки."
   ]
  },
  {
   "cell_type": "code",
   "execution_count": null,
   "metadata": {},
   "outputs": [],
   "source": [
    "header_range = sheet.range('D9:D100')\n",
    "header_range.font.bold = True\n",
    "header_range.horizontal_alignment = xw.constants.HAlign.center"
   ]
  },
  {
   "cell_type": "markdown",
   "metadata": {},
   "source": [
    "## Лабораторная работа 7.2"
   ]
  },
  {
   "cell_type": "markdown",
   "metadata": {},
   "source": [
    "8. Напишите функцию `validate()`, которая проверяет соответствие всех строк из листа `Отзывы` следующим правилам:\n",
    "    * Рейтинг - это число от 0 до 5 включительно\n",
    "    * Соответствующий рецепт имеется на листе `Рецепты`\n",
    "    \n",
    "В случае несоответствия этим правилам, выделите строку красным цветом"
   ]
  },
  {
   "cell_type": "code",
   "execution_count": null,
   "metadata": {},
   "outputs": [],
   "source": [
    "def validate(reviews, recipes):\n",
    "    for review in reviews:\n",
    "        rating = review.get(\"rating\")\n",
    "        recipe_id = review.get(\"recipe_id\")\n",
    "        recipe_exists = False\n",
    "        \n",
    "        # Check if rating is between 0 and 5\n",
    "        if rating is None or not isinstance(rating, int) or rating < 0 or rating > 5:\n",
    "            # Highlight the review in red\n",
    "            print(f\"\\033[91m{review}\\033[0m\")\n",
    "            continue\n",
    "        \n",
    "        # Check if recipe_id exists in recipes\n",
    "        for recipe in recipes:\n",
    "            if recipe.get(\"recipe_id\") == recipe_id:\n",
    "                recipe_exists = True\n",
    "                break\n",
    "        \n",
    "        if not recipe_exists:\n",
    "            # Highlight the review in red\n",
    "            print(f\"\\033[91m{review}\\033[0m\")\n"
   ]
  },
  {
   "cell_type": "markdown",
   "metadata": {},
   "source": [
    "9. В файле `recipes_model.csv` находится модель данных предметной области \"рецепты\". При помощи пакета `csv` считайте эти данные. При помощи пакета `xlwings` запишите данные на лист `Модель` книги `recipes_model.xlsx`, начиная с ячейки `A2`, не используя циклы. Сделайте скриншот текущего состояния листа и прикрепите в ячейку ноутбука. "
   ]
  },
  {
   "cell_type": "code",
   "execution_count": null,
   "metadata": {},
   "outputs": [],
   "source": []
  }
 ],
 "metadata": {
  "kernelspec": {
   "display_name": "Python 3 (ipykernel)",
   "language": "python",
   "name": "python3"
  },
  "language_info": {
   "codemirror_mode": {
    "name": "ipython",
    "version": 3
   },
   "file_extension": ".py",
   "mimetype": "text/x-python",
   "name": "python",
   "nbconvert_exporter": "python",
   "pygments_lexer": "ipython3",
   "version": "3.9.16"
  }
 },
 "nbformat": 4,
 "nbformat_minor": 4
}
